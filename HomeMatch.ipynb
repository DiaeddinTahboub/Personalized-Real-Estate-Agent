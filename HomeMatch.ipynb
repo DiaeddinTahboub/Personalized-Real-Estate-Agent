{
 "cells": [
  {
   "cell_type": "markdown",
   "id": "a108af04",
   "metadata": {},
   "source": [
    "This is a starter notebook for the project, you'll have to import the libraries you'll need, you can find a list of the ones available in this workspace in the requirements.txt file in this workspace. "
   ]
  },
  {
   "cell_type": "code",
   "execution_count": 7,
   "id": "4f419df8",
   "metadata": {},
   "outputs": [
    {
     "name": "stdout",
     "output_type": "stream",
     "text": [
      "Downloading from https://www.kaggle.com/api/v1/datasets/download/ramiromep/house-thumbnail?dataset_version_number=1...\n"
     ]
    },
    {
     "name": "stderr",
     "output_type": "stream",
     "text": [
      "100%|██████████| 34.4M/34.4M [00:05<00:00, 7.20MB/s]"
     ]
    },
    {
     "name": "stdout",
     "output_type": "stream",
     "text": [
      "Extracting files...\n"
     ]
    },
    {
     "name": "stderr",
     "output_type": "stream",
     "text": [
      "\n"
     ]
    },
    {
     "name": "stdout",
     "output_type": "stream",
     "text": [
      "Path to dataset files: C:\\Users\\Quantum\\.cache\\kagglehub\\datasets\\ramiromep\\house-thumbnail\\versions\\1\n"
     ]
    }
   ],
   "source": [
    "import kagglehub\n",
    "\n",
    "# Download latest version\n",
    "path = kagglehub.dataset_download(\"ramiromep/house-thumbnail\")\n",
    "\n",
    "print(\"Path to dataset files:\", path)"
   ]
  },
  {
   "cell_type": "code",
   "execution_count": 8,
   "id": "b5ff7adf",
   "metadata": {},
   "outputs": [
    {
     "name": "stdout",
     "output_type": "stream",
     "text": [
      "All files moved to the current directory.\n"
     ]
    }
   ],
   "source": [
    "import os\n",
    "import shutil\n",
    "\n",
    "for item in os.listdir(path):\n",
    "    source = os.path.join(path, item)\n",
    "    destination = os.path.join(os.getcwd(), item)\n",
    "    shutil.move(source, destination)\n",
    "\n",
    "print(\"All files moved to the current directory.\")"
   ]
  },
  {
   "cell_type": "code",
   "execution_count": 28,
   "id": "df7c7cb1",
   "metadata": {},
   "outputs": [
    {
     "name": "stdout",
     "output_type": "stream",
     "text": [
      "Generated 2 new listings\n",
      "Generated 2 new listings\n",
      "Generated 2 new listings\n",
      "Generated 2 new listings\n",
      "Generated 2 new listings\n",
      "Generated 2 new listings\n",
      "Generated 2 new listings\n",
      "Generated 0 new listings\n",
      "Generated 2 new listings\n",
      "Generated 2 new listings\n",
      "Generated 2 new listings\n",
      "Generated 2 new listings\n",
      "Generated 0 new listings\n",
      "Generated 2 new listings\n",
      "Generated 2 new listings\n",
      "Generated 0 new listings\n",
      "Generated 2 new listings\n",
      "Generated 2 new listings\n",
      "Generated 2 new listings\n",
      "Generated 2 new listings\n",
      "Generated 2 new listings\n",
      "Generated 2 new listings\n",
      "Generated 2 new listings\n",
      "Generated 2 new listings\n",
      "Generated 2 new listings\n",
      "Generated 2 new listings\n",
      "Generated 2 new listings\n",
      "Generated 2 new listings\n",
      "Generated 2 new listings\n",
      "Generated 2 new listings\n",
      "Generated 2 new listings\n",
      "Generated 2 new listings\n",
      "Generated 2 new listings\n",
      "Generated 2 new listings\n",
      "Generated 2 new listings\n",
      "Generated 2 new listings\n",
      "Generated 2 new listings\n",
      "Generated 2 new listings\n",
      "Generated 2 new listings\n",
      "Generated 2 new listings\n",
      "Generated 2 new listings\n",
      "Generated 2 new listings\n",
      "Generated 3 new listings\n",
      "Generated 2 new listings\n",
      "Generated 2 new listings\n",
      "Generated 2 new listings\n",
      "Generated 2 new listings\n",
      "Generated 2 new listings\n",
      "Generated 2 new listings\n",
      "Generated 2 new listings\n",
      "Generated 2 new listings\n",
      "Generated 2 new listings\n"
     ]
    }
   ],
   "source": [
    "from langchain.chat_models import ChatOpenAI\n",
    "from langchain.schema import HumanMessage\n",
    "\n",
    "chat_model = ChatOpenAI(model=\"gpt-3.5-turbo\")\n",
    "\n",
    "listings = [\"\"\"Neighborhood: Green Oaks\n",
    "Price: $800,000\n",
    "Size: 2,500 sqft\n",
    "Bedrooms: 4\n",
    "Bathrooms: 3\n",
    "Description: This spacious modern home features an open floor plan, hardwood floors, and a gourmet kitchen with stainless steel appliances. The master suite includes a walk-in closet and spa-like bathroom. The backyard is perfect for entertaining with a patio and fire pit.\n",
    "Neighborhood Description: Green Oaks is a close-knit, environmentally-conscious community with access \"\"\"]\n",
    "\n",
    "def generate_listings(num_listings, listings):\n",
    "    while len(listings) < num_listings:\n",
    "        prompt = f\"\"\"I want you to generate 3 random, and very diverse listings for houses like this:\n",
    "        {listings[-1]}\n",
    "        Note: Separate each two listings with 5 hyphens (-----), and keep them short and varied in style.\n",
    "        \"\"\"\n",
    "        response = chat_model.invoke([HumanMessage(content=prompt)])\n",
    "        new_listings = response.content.split(\"-----\")\n",
    "        new_listings.pop()\n",
    "        cleaned_listings = [listing.strip() for listing in new_listings]\n",
    "        listings.extend(cleaned_listings)\n",
    "        print(f\"Generated {len(cleaned_listings)} new listings\")\n",
    "    return listings\n",
    "\n",
    "listings = generate_listings(100, listings)\n",
    "\n",
    "\n",
    "\n",
    "\n",
    "\n",
    "\n",
    "\n",
    "\n",
    "\n"
   ]
  },
  {
   "cell_type": "code",
   "execution_count": 63,
   "id": "91cd4aa4",
   "metadata": {},
   "outputs": [],
   "source": [
    "for listing in listings:\n",
    "    if listing == \"\":\n",
    "        print(\"Empty listing found\")"
   ]
  },
  {
   "cell_type": "code",
   "execution_count": 64,
   "id": "63f43888",
   "metadata": {},
   "outputs": [],
   "source": [
    "from langchain.embeddings import OpenAIEmbeddings\n",
    "import numpy as np\n",
    "embedder = OpenAIEmbeddings() \n",
    "\n",
    "embeddings = [np.array(embedder.embed_query(listing)) for listing in listings]"
   ]
  },
  {
   "cell_type": "code",
   "execution_count": 83,
   "id": "7668eb0c",
   "metadata": {},
   "outputs": [],
   "source": [
    "\n",
    "data = {\"listing\": listings, \"embedding\": embeddings}\n"
   ]
  },
  {
   "cell_type": "code",
   "execution_count": 84,
   "id": "3d981df6",
   "metadata": {},
   "outputs": [],
   "source": [
    "import pandas as pd\n",
    "listings_df = pd.DataFrame(data)\n"
   ]
  },
  {
   "cell_type": "code",
   "execution_count": 67,
   "id": "dc05df58",
   "metadata": {},
   "outputs": [],
   "source": [
    "\n"
   ]
  },
  {
   "cell_type": "code",
   "execution_count": 85,
   "id": "63c92f06",
   "metadata": {},
   "outputs": [
    {
     "data": {
      "text/html": [
       "<div>\n",
       "<style scoped>\n",
       "    .dataframe tbody tr th:only-of-type {\n",
       "        vertical-align: middle;\n",
       "    }\n",
       "\n",
       "    .dataframe tbody tr th {\n",
       "        vertical-align: top;\n",
       "    }\n",
       "\n",
       "    .dataframe thead th {\n",
       "        text-align: right;\n",
       "    }\n",
       "</style>\n",
       "<table border=\"1\" class=\"dataframe\">\n",
       "  <thead>\n",
       "    <tr style=\"text-align: right;\">\n",
       "      <th></th>\n",
       "      <th>listing</th>\n",
       "      <th>embedding</th>\n",
       "    </tr>\n",
       "  </thead>\n",
       "  <tbody>\n",
       "    <tr>\n",
       "      <th>0</th>\n",
       "      <td>Neighborhood: Green Oaks\\nPrice: $800,000\\nSiz...</td>\n",
       "      <td>[0.014411984991888413, 0.009586600619389166, -...</td>\n",
       "    </tr>\n",
       "    <tr>\n",
       "      <th>1</th>\n",
       "      <td>Neighborhood: Waterfront Estates\\nPrice: $1,20...</td>\n",
       "      <td>[0.00950167371071534, -0.006773731046157218, 0...</td>\n",
       "    </tr>\n",
       "    <tr>\n",
       "      <th>2</th>\n",
       "      <td>Neighborhood: Historic Downtown\\nPrice: $600,0...</td>\n",
       "      <td>[0.010608291058033303, 0.028959378066662843, -...</td>\n",
       "    </tr>\n",
       "    <tr>\n",
       "      <th>3</th>\n",
       "      <td>Neighborhood: Suburban Paradise\\nPrice: $550,0...</td>\n",
       "      <td>[0.01917634952018407, 0.021501530495919543, -0...</td>\n",
       "    </tr>\n",
       "    <tr>\n",
       "      <th>4</th>\n",
       "      <td>Neighborhood: Coastal Retreat\\nPrice: $700,000...</td>\n",
       "      <td>[0.0068847007479741, 0.012482964755161762, 0.0...</td>\n",
       "    </tr>\n",
       "  </tbody>\n",
       "</table>\n",
       "</div>"
      ],
      "text/plain": [
       "                                             listing  \\\n",
       "0  Neighborhood: Green Oaks\\nPrice: $800,000\\nSiz...   \n",
       "1  Neighborhood: Waterfront Estates\\nPrice: $1,20...   \n",
       "2  Neighborhood: Historic Downtown\\nPrice: $600,0...   \n",
       "3  Neighborhood: Suburban Paradise\\nPrice: $550,0...   \n",
       "4  Neighborhood: Coastal Retreat\\nPrice: $700,000...   \n",
       "\n",
       "                                           embedding  \n",
       "0  [0.014411984991888413, 0.009586600619389166, -...  \n",
       "1  [0.00950167371071534, -0.006773731046157218, 0...  \n",
       "2  [0.010608291058033303, 0.028959378066662843, -...  \n",
       "3  [0.01917634952018407, 0.021501530495919543, -0...  \n",
       "4  [0.0068847007479741, 0.012482964755161762, 0.0...  "
      ]
     },
     "execution_count": 85,
     "metadata": {},
     "output_type": "execute_result"
    }
   ],
   "source": [
    "listings_df.head()\n"
   ]
  },
  {
   "cell_type": "code",
   "execution_count": null,
   "id": "ca99b5a3",
   "metadata": {},
   "outputs": [
    {
     "name": "stderr",
     "output_type": "stream",
     "text": [
      "Using a slow image processor as `use_fast` is unset and a slow processor was saved with this model. `use_fast=True` will be the default behavior in v4.52, even if the model was saved with a slow processor. This will result in minor differences in outputs. You'll still be able to use a slow processor with `use_fast=False`.\n"
     ]
    },
    {
     "data": {
      "application/vnd.jupyter.widget-view+json": {
       "model_id": "5b25edcf51b347d189de36c731e07a9e",
       "version_major": 2,
       "version_minor": 0
      },
      "text/plain": [
       "preprocessor_config.json:   0%|          | 0.00/316 [00:00<?, ?B/s]"
      ]
     },
     "metadata": {},
     "output_type": "display_data"
    }
   ],
   "source": [
    "import torch\n",
    "from transformers import CLIPProcessor, CLIPModel\n",
    "from PIL import Image\n",
    "import os\n",
    "\n",
    "\n",
    "model_name = \"openai/clip-vit-base-patch32\"\n",
    "model = CLIPModel.from_pretrained(model_name)\n",
    "processor = CLIPProcessor.from_pretrained(model_name)\n",
    "\n",
    "image_paths = os.listdir(\"images\")\n",
    "\n",
    "images = [Image.open(\"images/\"+path).convert(\"RGB\") for path in image_paths]\n",
    "\n",
    "\n",
    "inputs = processor(images=images, return_tensors=\"pt\", padding=True)\n",
    "\n",
    "with torch.no_grad():\n",
    "    image_embeddings = model.get_image_features(**inputs)\n",
    "\n",
    "\n",
    "image_embeddings_np = image_embeddings.cpu().numpy()"
   ]
  },
  {
   "cell_type": "code",
   "execution_count": 88,
   "id": "7aacae92",
   "metadata": {},
   "outputs": [],
   "source": [
    "images_data = {\"embedding\": list(image_embeddings_np), \"image_path\": [\"images/\" + path for path in image_paths]}\n",
    "images_df = pd.DataFrame(images_data)\n"
   ]
  },
  {
   "cell_type": "code",
   "execution_count": 90,
   "id": "67ad0683",
   "metadata": {},
   "outputs": [
    {
     "data": {
      "text/html": [
       "<div>\n",
       "<style scoped>\n",
       "    .dataframe tbody tr th:only-of-type {\n",
       "        vertical-align: middle;\n",
       "    }\n",
       "\n",
       "    .dataframe tbody tr th {\n",
       "        vertical-align: top;\n",
       "    }\n",
       "\n",
       "    .dataframe thead th {\n",
       "        text-align: right;\n",
       "    }\n",
       "</style>\n",
       "<table border=\"1\" class=\"dataframe\">\n",
       "  <thead>\n",
       "    <tr style=\"text-align: right;\">\n",
       "      <th></th>\n",
       "      <th>embedding</th>\n",
       "      <th>image_path</th>\n",
       "    </tr>\n",
       "  </thead>\n",
       "  <tbody>\n",
       "    <tr>\n",
       "      <th>0</th>\n",
       "      <td>[-0.356911, 0.20230845, 0.3127359, -0.12196179...</td>\n",
       "      <td>images/1.jpg</td>\n",
       "    </tr>\n",
       "    <tr>\n",
       "      <th>1</th>\n",
       "      <td>[-0.18033618, -0.07464185, 0.21722317, -0.3391...</td>\n",
       "      <td>images/10.jpg</td>\n",
       "    </tr>\n",
       "    <tr>\n",
       "      <th>2</th>\n",
       "      <td>[-0.17692164, -0.007758066, -0.0430524, -0.149...</td>\n",
       "      <td>images/100.jpg</td>\n",
       "    </tr>\n",
       "    <tr>\n",
       "      <th>3</th>\n",
       "      <td>[-0.38195378, 0.46233165, 0.5423373, -0.678843...</td>\n",
       "      <td>images/10001.jpg</td>\n",
       "    </tr>\n",
       "    <tr>\n",
       "      <th>4</th>\n",
       "      <td>[-0.077591255, 0.2031817, 0.31840825, -0.56822...</td>\n",
       "      <td>images/10002.jpg</td>\n",
       "    </tr>\n",
       "  </tbody>\n",
       "</table>\n",
       "</div>"
      ],
      "text/plain": [
       "                                           embedding        image_path\n",
       "0  [-0.356911, 0.20230845, 0.3127359, -0.12196179...      images/1.jpg\n",
       "1  [-0.18033618, -0.07464185, 0.21722317, -0.3391...     images/10.jpg\n",
       "2  [-0.17692164, -0.007758066, -0.0430524, -0.149...    images/100.jpg\n",
       "3  [-0.38195378, 0.46233165, 0.5423373, -0.678843...  images/10001.jpg\n",
       "4  [-0.077591255, 0.2031817, 0.31840825, -0.56822...  images/10002.jpg"
      ]
     },
     "execution_count": 90,
     "metadata": {},
     "output_type": "execute_result"
    }
   ],
   "source": [
    "images_df.head()\n"
   ]
  },
  {
   "cell_type": "code",
   "execution_count": 97,
   "id": "6d51ba13",
   "metadata": {},
   "outputs": [],
   "source": [
    "import lancedb\n",
    "import pyarrow as pa\n",
    "db = lancedb.connect(\"my_lancedb\")\n",
    "\n",
    "\n",
    "image_embedding_size = len(images_df['embedding'].iloc[0])\n",
    "\n",
    "image_schema = pa.schema([\n",
    "    (\"embedding\", pa.list_(pa.float32(), list_size=image_embedding_size)),\n",
    "    (\"image_path\", pa.string()),\n",
    "])\n",
    "\n",
    "images_table = db.create_table(\n",
    "    \"images\",\n",
    "    data=images_df.to_dict(orient=\"records\"),\n",
    "    schema=image_schema,\n",
    "    mode=\"overwrite\"\n",
    ")\n",
    "listing_embedding_size = len(listings_df['embedding'].iloc[0])\n",
    "\n",
    "listing_schema = pa.schema([\n",
    "    (\"embedding\", pa.list_(pa.float32(), list_size=listing_embedding_size)),\n",
    "    (\"listing\", pa.string()),\n",
    "])\n",
    "\n",
    "listings_table = db.create_table(\n",
    "    \"listings\",\n",
    "    data=listings_df.to_dict(orient=\"records\"),\n",
    "    schema=listing_schema,\n",
    "    mode=\"overwrite\"\n",
    ")"
   ]
  },
  {
   "cell_type": "code",
   "execution_count": 98,
   "id": "a4a1bf47",
   "metadata": {},
   "outputs": [],
   "source": [
    "images_table = db.open_table(\"images\")\n",
    "listings_table = db.open_table(\"listings\")"
   ]
  },
  {
   "cell_type": "code",
   "execution_count": 106,
   "id": "eee1aef7",
   "metadata": {},
   "outputs": [],
   "source": [
    "query_text = \"Surrounded by nature\"\n",
    "inputs = processor(text=query_text, return_tensors=\"pt\", padding=True)\n",
    "with torch.no_grad():\n",
    "    query_embedding_image = model.get_text_features(**inputs).squeeze(0).cpu().numpy()\n",
    "\n",
    "top_image = images_table.search(query_embedding_image, vector_column_name=\"embedding\").limit(1).to_pandas()\n",
    "\n",
    "query_embedding_listing = np.array(embedder.embed_query(query_text))\n",
    "\n",
    "top_listing = listings_table.search(query_embedding_listing, vector_column_name=\"embedding\").limit(1).to_pandas()"
   ]
  },
  {
   "cell_type": "code",
   "execution_count": 107,
   "id": "46e89e0e",
   "metadata": {},
   "outputs": [
    {
     "data": {
      "text/html": [
       "<div>\n",
       "<style scoped>\n",
       "    .dataframe tbody tr th:only-of-type {\n",
       "        vertical-align: middle;\n",
       "    }\n",
       "\n",
       "    .dataframe tbody tr th {\n",
       "        vertical-align: top;\n",
       "    }\n",
       "\n",
       "    .dataframe thead th {\n",
       "        text-align: right;\n",
       "    }\n",
       "</style>\n",
       "<table border=\"1\" class=\"dataframe\">\n",
       "  <thead>\n",
       "    <tr style=\"text-align: right;\">\n",
       "      <th></th>\n",
       "      <th>embedding</th>\n",
       "      <th>image_path</th>\n",
       "      <th>_distance</th>\n",
       "    </tr>\n",
       "  </thead>\n",
       "  <tbody>\n",
       "    <tr>\n",
       "      <th>0</th>\n",
       "      <td>[-0.031362385, 0.018960305, 0.14741015, -0.280...</td>\n",
       "      <td>images/16040.jpg</td>\n",
       "      <td>149.868729</td>\n",
       "    </tr>\n",
       "  </tbody>\n",
       "</table>\n",
       "</div>"
      ],
      "text/plain": [
       "                                           embedding        image_path  \\\n",
       "0  [-0.031362385, 0.018960305, 0.14741015, -0.280...  images/16040.jpg   \n",
       "\n",
       "    _distance  \n",
       "0  149.868729  "
      ]
     },
     "execution_count": 107,
     "metadata": {},
     "output_type": "execute_result"
    }
   ],
   "source": [
    "top_image.head()\n"
   ]
  },
  {
   "cell_type": "code",
   "execution_count": 108,
   "id": "f9ee5d10",
   "metadata": {},
   "outputs": [
    {
     "name": "stdout",
     "output_type": "stream",
     "text": [
      "Neighborhood: Secluded Forest Retreat\n",
      "Price: $800,000\n",
      "Size: 2,500 sqft\n",
      "Bedrooms: 3\n",
      "Bathrooms: 2.5\n",
      "Description: This charming cabin-style home offers peaceful seclusion in a lush forest setting. The cozy interior features a stone fireplace, rustic wood accents, and a spacious master suite. Enjoy nature views from the deck and unwind in the hot tub after a long day.\n",
      "Neighborhood Description: Secluded Forest Retreat is nestled in a private wooded area, providing a serene escape from the hustle and bustle of city life. Residents can enjoy hiking trails, wildlife sightings, and a tranquil environment.\n"
     ]
    }
   ],
   "source": [
    "print(top_listing.iloc[0]['listing'])\n"
   ]
  },
  {
   "cell_type": "code",
   "execution_count": 109,
   "id": "d7f09b54",
   "metadata": {},
   "outputs": [
    {
     "data": {
      "image/png": "[encoded data removed]",
      "text/plain": [
       "<Figure size 640x480 with 1 Axes>"
      ]
     },
     "metadata": {},
     "output_type": "display_data"
    }
   ],
   "source": [
    "from PIL import Image\n",
    "import matplotlib.pyplot as plt\n",
    "image = Image.open(top_image.iloc[0]['image_path'])\n",
    "plt.imshow(image)\n",
    "plt.show()"
   ]
  }
 ],
 "metadata": {
  "kernelspec": {
   "display_name": ".venv",
   "language": "python",
   "name": "python3"
  },
  "language_info": {
   "codemirror_mode": {
    "name": "ipython",
    "version": 3
   },
   "file_extension": ".py",
   "mimetype": "text/x-python",
   "name": "python",
   "nbconvert_exporter": "python",
   "pygments_lexer": "ipython3",
   "version": "3.12.10"
  }
 },
 "nbformat": 4,
 "nbformat_minor": 5
}
